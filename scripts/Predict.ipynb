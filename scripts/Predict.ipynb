{
 "cells": [
  {
   "cell_type": "code",
   "execution_count": 1,
   "metadata": {},
   "outputs": [
    {
     "name": "stderr",
     "output_type": "stream",
     "text": [
      "Using TensorFlow backend.\n",
      "/Users/ryadhkhisb/anaconda2/envs/nn/lib/python3.7/site-packages/tensorflow/python/framework/dtypes.py:526: FutureWarning: Passing (type, 1) or '1type' as a synonym of type is deprecated; in a future version of numpy, it will be understood as (type, (1,)) / '(1,)type'.\n",
      "  _np_qint8 = np.dtype([(\"qint8\", np.int8, 1)])\n",
      "/Users/ryadhkhisb/anaconda2/envs/nn/lib/python3.7/site-packages/tensorflow/python/framework/dtypes.py:527: FutureWarning: Passing (type, 1) or '1type' as a synonym of type is deprecated; in a future version of numpy, it will be understood as (type, (1,)) / '(1,)type'.\n",
      "  _np_quint8 = np.dtype([(\"quint8\", np.uint8, 1)])\n",
      "/Users/ryadhkhisb/anaconda2/envs/nn/lib/python3.7/site-packages/tensorflow/python/framework/dtypes.py:528: FutureWarning: Passing (type, 1) or '1type' as a synonym of type is deprecated; in a future version of numpy, it will be understood as (type, (1,)) / '(1,)type'.\n",
      "  _np_qint16 = np.dtype([(\"qint16\", np.int16, 1)])\n",
      "/Users/ryadhkhisb/anaconda2/envs/nn/lib/python3.7/site-packages/tensorflow/python/framework/dtypes.py:529: FutureWarning: Passing (type, 1) or '1type' as a synonym of type is deprecated; in a future version of numpy, it will be understood as (type, (1,)) / '(1,)type'.\n",
      "  _np_quint16 = np.dtype([(\"quint16\", np.uint16, 1)])\n",
      "/Users/ryadhkhisb/anaconda2/envs/nn/lib/python3.7/site-packages/tensorflow/python/framework/dtypes.py:530: FutureWarning: Passing (type, 1) or '1type' as a synonym of type is deprecated; in a future version of numpy, it will be understood as (type, (1,)) / '(1,)type'.\n",
      "  _np_qint32 = np.dtype([(\"qint32\", np.int32, 1)])\n",
      "/Users/ryadhkhisb/anaconda2/envs/nn/lib/python3.7/site-packages/tensorflow/python/framework/dtypes.py:535: FutureWarning: Passing (type, 1) or '1type' as a synonym of type is deprecated; in a future version of numpy, it will be understood as (type, (1,)) / '(1,)type'.\n",
      "  np_resource = np.dtype([(\"resource\", np.ubyte, 1)])\n"
     ]
    }
   ],
   "source": [
    "from keras.datasets import mnist\n",
    "import numpy as np\n",
    "import h5py\n",
    "import os"
   ]
  },
  {
   "cell_type": "code",
   "execution_count": 2,
   "metadata": {},
   "outputs": [],
   "source": [
    "def get_mnist():\n",
    "    \"\"\"\n",
    "    Returns the train and test splits of the MNIST digits dataset,\n",
    "    where x_train and x_test are shaped into the tensorflow image data\n",
    "    shape and normalized to fit in the range [0, 1]\n",
    "    \"\"\"\n",
    "    (x_train, y_train), (x_test, y_test) = mnist.load_data()\n",
    "    # reshape and standardize x arrays\n",
    "    x_train = np.expand_dims(x_train, -1) / 255\n",
    "    x_test = np.expand_dims(x_test, -1) / 255\n",
    "    return x_train, x_test, y_train, y_test"
   ]
  },
  {
   "cell_type": "code",
   "execution_count": 3,
   "metadata": {},
   "outputs": [],
   "source": [
    "def load_spectral_data(data_path, dset):\n",
    "    h = h5py.File(os.path.join(data_path, '%s_spectralnet.hdf5' % dset))\n",
    "    keys = [k for k in sorted(h.keys()) if k.startswith('spectral')]\n",
    "    spectral_dict = dict()\n",
    "    for k in keys:\n",
    "        _, k_i, i = k.split('-')\n",
    "        l = spectral_dict.get(k_i, [])\n",
    "        l.append(h[k].value)\n",
    "        spectral_dict[k_i] = l\n",
    "\n",
    "    ret_dict = dict()\n",
    "    ret_dict[\"spectral\"] = spectral_dict\n",
    "    ret_dict[\"p_train\"] = h[\"p_train\"].value\n",
    "    ret_dict[\"p_val\"] = h[\"p_val\"].value\n",
    "\n",
    "    return ret_dict"
   ]
  },
  {
   "cell_type": "code",
   "execution_count": 4,
   "metadata": {},
   "outputs": [],
   "source": [
    "x_train_raw, x_test_raw, y_train_raw, y_test_raw = get_mnist()"
   ]
  },
  {
   "cell_type": "code",
   "execution_count": 5,
   "metadata": {},
   "outputs": [
    {
     "name": "stderr",
     "output_type": "stream",
     "text": [
      "/Users/ryadhkhisb/anaconda2/envs/nn/lib/python3.7/site-packages/ipykernel_launcher.py:2: H5pyDeprecationWarning: The default file mode will change to 'r' (read-only) in h5py 3.0. To suppress this warning, pass the mode you need to h5py.File(), or set the global default h5.get_config().default_file_mode, or set the environment variable H5PY_DEFAULT_READONLY=1. Available modes are: 'r', 'r+', 'w', 'w-'/'x', 'a'. See the docs for details.\n",
      "  \n",
      "/Users/ryadhkhisb/anaconda2/envs/nn/lib/python3.7/site-packages/ipykernel_launcher.py:8: H5pyDeprecationWarning: dataset.value has been deprecated. Use dataset[()] instead.\n",
      "  \n",
      "/Users/ryadhkhisb/anaconda2/envs/nn/lib/python3.7/site-packages/ipykernel_launcher.py:13: H5pyDeprecationWarning: dataset.value has been deprecated. Use dataset[()] instead.\n",
      "  del sys.path[0]\n",
      "/Users/ryadhkhisb/anaconda2/envs/nn/lib/python3.7/site-packages/ipykernel_launcher.py:14: H5pyDeprecationWarning: dataset.value has been deprecated. Use dataset[()] instead.\n",
      "  \n"
     ]
    }
   ],
   "source": [
    "data = load_spectral_data('/tmp/data', 'mnist')"
   ]
  },
  {
   "cell_type": "code",
   "execution_count": 7,
   "metadata": {},
   "outputs": [],
   "source": [
    "x_train, y_train, x_val, y_val, x_test, y_test = data['spectral']['train_and_test']"
   ]
  },
  {
   "cell_type": "code",
   "execution_count": 36,
   "metadata": {},
   "outputs": [
    {
     "data": {
      "text/plain": [
       "<matplotlib.image.AxesImage at 0x15cd09a10>"
      ]
     },
     "execution_count": 36,
     "metadata": {},
     "output_type": "execute_result"
    },
    {
     "data": {
      "image/png": "[encoded data removed]",
      "text/plain": [
       "<Figure size 432x288 with 1 Axes>"
      ]
     },
     "metadata": {
      "needs_background": "light"
     },
     "output_type": "display_data"
    }
   ],
   "source": [
    "from matplotlib.pyplot import imshow\n",
    "import numpy as np\n",
    "from PIL import Image\n",
    "\n",
    "%matplotlib inline\n",
    "\n",
    "idx = 9\n",
    "x_train[idx].reshape((-1)), y_train[idx]\n",
    "imshow(x_test_raw[idx].reshape((28, 28)))\n"
   ]
  },
  {
   "cell_type": "code",
   "execution_count": 37,
   "metadata": {},
   "outputs": [
    {
     "name": "stdout",
     "output_type": "stream",
     "text": [
      "0 {'data': {'names': [], 'ndarray': [7.0]}, 'meta': {}} 7\n",
      "1 {'data': {'names': [], 'ndarray': [2.0]}, 'meta': {}} 2\n",
      "2 {'data': {'names': [], 'ndarray': [1.0]}, 'meta': {}} 1\n",
      "3 {'data': {'names': [], 'ndarray': [0.0]}, 'meta': {}} 0\n",
      "4 {'data': {'names': [], 'ndarray': [9.0]}, 'meta': {}} 4\n",
      "5 {'data': {'names': [], 'ndarray': [1.0]}, 'meta': {}} 1\n",
      "6 {'data': {'names': [], 'ndarray': [9.0]}, 'meta': {}} 4\n",
      "7 {'data': {'names': [], 'ndarray': [9.0]}, 'meta': {}} 9\n",
      "8 {'data': {'names': [], 'ndarray': [5.0]}, 'meta': {}} 5\n",
      "9 {'data': {'names': [], 'ndarray': [9.0]}, 'meta': {}} 9\n"
     ]
    }
   ],
   "source": [
    "import requests\n",
    "import json\n",
    "for idx in range(10):\n",
    "    data = json.dumps({\"data\": {\"ndarray\":[list(x_test_raw[idx].reshape(-1))]}})\n",
    "\n",
    "    r = requests.post('http://localhost:5000/predict', data={\"json\": data})\n",
    "    print(idx, r.json(), y_test_raw[idx])"
   ]
  },
  {
   "cell_type": "code",
   "execution_count": 24,
   "metadata": {},
   "outputs": [
    {
     "data": {
      "text/plain": [
       "b'<!DOCTYPE HTML PUBLIC \"-//W3C//DTD HTML 3.2 Final//EN\">\\n<title>500 Internal Server Error</title>\\n<h1>Internal Server Error</h1>\\n<p>The server encountered an internal error and was unable to complete your request. Either the server is overloaded or there is an error in the application.</p>\\n'"
      ]
     },
     "execution_count": 24,
     "metadata": {},
     "output_type": "execute_result"
    }
   ],
   "source": [
    "r.content"
   ]
  },
  {
   "cell_type": "code",
   "execution_count": 45,
   "metadata": {},
   "outputs": [
    {
     "name": "stdout",
     "output_type": "stream",
     "text": [
      "Initial values for W and b:  0.4322601 0.107851684\n",
      "Value for W and b after GD:  0.3876748 0.06505611\n"
     ]
    }
   ],
   "source": [
    "import numpy as np\n",
    "import tensorflow as tf\n",
    "\n",
    "train_X = np.asarray([3.3,4.4,5.5,6.71,6.93,4.168,9.779,6.182,7.59,2.167,7.042,10.791,5.313,7.997,5.654,9.27,3.1])\n",
    "train_Y = np.asarray([1.7,2.76,2.09,3.19,1.694,1.573,3.366,2.596,2.53,1.221,2.827,3.465,1.65,2.904,2.42,2.94,1.3])\n",
    "\n",
    "n_samples = train_X.shape[0]\n",
    "batch_size = 100\n",
    "\n",
    "total_epochs = 50\n",
    "\n",
    "X = tf.placeholder('float')\n",
    "y = tf.placeholder('float')\n",
    "\n",
    "W = tf.Variable(np.random.randn(), name=\"weights\")\n",
    "b = tf.Variable(np.random.randn(), name=\"bias\")\n",
    "\n",
    "y_pred = tf.add(tf.multiply(X, W), b)\n",
    "\n",
    "cost = tf.reduce_sum(tf.pow(y_pred-y, 2))/(2*n_samples) #L2 loss\n",
    "optimizer = tf.train.AdamOptimizer().minimize(cost) #Gradient \n",
    "\n",
    "init = tf.initialize_all_variables()\n",
    "\n",
    "with tf.Session() as sess:\n",
    "    sess.run(init)\n",
    "    print(\"Initial values for W and b: \", W.eval(), b.eval())\n",
    "    for _ in range(total_epochs):\n",
    "        sess.run(optimizer, feed_dict={X: train_X, y: train_Y})\n",
    "    print(\"Value for W and b after GD: \", W.eval(), b.eval())"
   ]
  }
 ],
 "metadata": {
  "kernelspec": {
   "display_name": "Python 3",
   "language": "python",
   "name": "python3"
  },
  "language_info": {
   "codemirror_mode": {
    "name": "ipython",
    "version": 3
   },
   "file_extension": ".py",
   "mimetype": "text/x-python",
   "name": "python",
   "nbconvert_exporter": "python",
   "pygments_lexer": "ipython3",
   "version": "3.7.4"
  }
 },
 "nbformat": 4,
 "nbformat_minor": 4
}
